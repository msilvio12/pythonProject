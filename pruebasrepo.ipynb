{
  "nbformat": 4,
  "nbformat_minor": 0,
  "metadata": {
    "colab": {
      "provenance": [],
      "authorship_tag": "ABX9TyPYX6FAsItrGhk8tx9SW7jk"
    },
    "kernelspec": {
      "name": "python3",
      "display_name": "Python 3"
    },
    "language_info": {
      "name": "python"
    }
  },
  "cells": [
    {
      "cell_type": "code",
      "execution_count": null,
      "metadata": {
        "id": "1sBwom92rB-T"
      },
      "outputs": [],
      "source": [
        "def es_par(num):\n",
        "   if num/2==0:\n",
        "    print(\"es par\")\n",
        "   else:\n",
        "    print(\"es impar\")\n",
        "\n",
        "\n",
        "import random as randint\n",
        "def generar():\n",
        "    for generar in range(0, 1000):\n",
        "\n",
        "        print(generar)\n",
        "\n",
        "\n",
        "\n",
        "numero=generar()\n",
        "print(numero)\n",
        "\n",
        "\n",
        "\n",
        "class Persona:\n",
        "    def __init__(self, nombre, apellido, edad):\n",
        "        self.__nombre=nombre\n",
        "        self.__apellido=apellido\n",
        "        self.__edad=edad\n",
        "\n",
        "class Empleado(Persona):\n",
        "     def __init__(self,nombre, apellido, edad, puesto):\n",
        "       self.nombre\n",
        "       self.apellido\n",
        "       self.edad\n",
        "       self.puesto\n",
        "       return Persona\n",
        "\n"
      ]
    }
  ]
}